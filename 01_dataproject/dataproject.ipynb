{
 "cells": [
  {
   "cell_type": "markdown",
   "id": "222bcbfa",
   "metadata": {},
   "source": [
    "# Data Project"
   ]
  },
  {
   "cell_type": "code",
   "execution_count": null,
   "id": "b7c6ddf2",
   "metadata": {},
   "outputs": [],
   "source": [
    "import numpy as np\n",
    "import matplotlib.pyplot as plt\n",
    "import pandas as pd\n",
    "\n",
    "# autoreload modules when code is run\n",
    "%load_ext autoreload\n",
    "%autoreload 2\n",
    "\n",
    "# user written modules\n",
    "import dataproject"
   ]
  },
  {
   "cell_type": "code",
   "execution_count": null,
   "id": "162671b6",
   "metadata": {},
   "outputs": [],
   "source": [
    "#%pip install fredapi\n",
    "#%pip install git+https://github.com/alemartinello/dstapi\n",
    "\n",
    "\n",
    "#Data\n",
    "from fredapi import Fred\n",
    "from dstapi import DstApi\n",
    "\n",
    "# plotting\n",
    "import matplotlib.pyplot as plt\n",
    "colors = plt.rcParams['axes.prop_cycle'].by_key()['color']\n",
    "plt.rcParams.update({'axes.grid':True,'grid.color':'black','grid.alpha':'0.25','grid.linestyle':'--'})\n",
    "plt.rcParams.update({'font.size': 14})"
   ]
  },
  {
   "cell_type": "code",
   "execution_count": null,
   "id": "5e639183",
   "metadata": {},
   "outputs": [],
   "source": [
    "pris113 = DstApi(\"pris113\")"
   ]
  },
  {
   "cell_type": "code",
   "execution_count": null,
   "id": "fbfab343",
   "metadata": {},
   "outputs": [],
   "source": [
    "# Table summary to get an overview of the dataset\n",
    "pris113.tablesummary()"
   ]
  },
  {
   "cell_type": "code",
   "execution_count": null,
   "id": "0694e253",
   "metadata": {},
   "outputs": [],
   "source": [
    "#Collect the variables from the data\n",
    "params = {\n",
    "    'table': 'pris113',\n",
    "    'format': 'BULK', # semicolon separated file\n",
    "    'lang': 'en',\n",
    "    'variables': [\n",
    "        {'code': 'TYPE', 'values': ['INDEKS']},\n",
    "        {'code': 'Tid', 'values': ['*']}, # '*' is everything\n",
    "        ]\n",
    "    }\n",
    "\n",
    "CPI = pris113.get_data(params=params)\n",
    "\n",
    "display(CPI.head(5))\n",
    "display(CPI.info())"
   ]
  },
  {
   "cell_type": "markdown",
   "id": "b04f5f33",
   "metadata": {},
   "source": [
    "**Question 1**"
   ]
  },
  {
   "cell_type": "code",
   "execution_count": null,
   "id": "23d79fbc",
   "metadata": {},
   "outputs": [],
   "source": [
    "#Pivot the data\n",
    "df = CPI.pivot_table(index='TID',columns='TYPE',values='INDHOLD', aggfunc='first')\n",
    "\n",
    "#Change the names of the column to CPI\n",
    "df.columns = ['CPI']\n",
    "\n",
    "df.head(5)\n",
    "\n"
   ]
  },
  {
   "cell_type": "code",
   "execution_count": null,
   "id": "6c745c6e",
   "metadata": {},
   "outputs": [],
   "source": [
    "# konverter TID til datetime, så vi kan filtrere efter år\n",
    "df.index = pd.to_datetime(df.index, format='%YM%m')\n",
    "\n",
    "#Konverte CPI til numerisk\n",
    "df[\"CPI\"] = pd.to_numeric(df[\"CPI\"], errors=\"coerce\")\n",
    "\n",
    "# Udregn gennemsnitligt CPI for 2020\n",
    "cpi_2020 = df[df.index.year == 2020]['CPI'].mean()\n",
    "\n",
    "# Rebase (gør 2020 = 100)\n",
    "df[\"CPI_rebased\"] = df[\"CPI\"] / cpi_2020 * 100"
   ]
  },
  {
   "cell_type": "code",
   "execution_count": null,
   "id": "d1fdf908",
   "metadata": {},
   "outputs": [],
   "source": [
    "#Create new variables\n",
    "df[\"inflation_monthly\"] = df[\"CPI\"] / df[\"CPI\"].shift(1) - 1\n",
    "df[\"inflation_yearly\"] = df[\"CPI\"] / df[\"CPI\"].shift(12) - 1\n"
   ]
  },
  {
   "cell_type": "code",
   "execution_count": null,
   "id": "f80fe9d3",
   "metadata": {},
   "outputs": [],
   "source": [
    "#plot CPI_rebased\n",
    "plt.figure(figsize=(12,6))\n",
    "plt.plot(df.index, df[\"CPI_rebased\"], label='CPI Rebased (2020=100)', color=colors[0])\n",
    "plt.title('Consumer Price Index (CPI) Rebased to 2020')\n",
    "plt.xlabel('Year')\n",
    "plt.ylabel('CPI (2020=100)')\n",
    "plt.legend()\n",
    "plt.show()\n",
    "\n",
    "#plot inflation_monthly\n",
    "plt.figure(figsize=(12,6))\n",
    "plt.plot(df.index, df[\"inflation_monthly\"]*100, label='Monthly Inflation Rate', color=colors[2])\n",
    "plt.title('Monthly Inflation Rate based on CPI')\n",
    "plt.xlabel('Year')\n",
    "plt.ylabel('Inflation Rate (%)')\n",
    "plt.legend()\n",
    "plt.show()\n",
    "\n",
    "#plot inflation_yearly\n",
    "plt.figure(figsize=(12,6))\n",
    "plt.plot(df.index, df[\"inflation_yearly\"]*100, label='Yearly Inflation Rate', color=colors[1])\n",
    "plt.title('Yearly Inflation Rate based on CPI')\n",
    "plt.xlabel('Year')\n",
    "plt.ylabel('Inflation Rate (%)')\n",
    "plt.legend()\n",
    "plt.show()"
   ]
  },
  {
   "cell_type": "markdown",
   "id": "2d0a3971",
   "metadata": {},
   "source": [
    "The yearly inflation rate was back to normal somewhere between 2023 and 2024, but the montly inflation rates were still high in 2025."
   ]
  },
  {
   "cell_type": "markdown",
   "id": "6e9987b7",
   "metadata": {},
   "source": [
    "**Question 2**"
   ]
  },
  {
   "cell_type": "code",
   "execution_count": null,
   "id": "cb39a7b9",
   "metadata": {},
   "outputs": [],
   "source": [
    "def func(T, K, alpha):\n",
    "    return (((T - K) ** alpha) /(sum((T-K)**alpha)) * T) \n",
    "\n",
    "def ii_rate(P, func):\n",
    "    return (sum(1 + P) ** func)-1"
   ]
  },
  {
   "cell_type": "code",
   "execution_count": null,
   "id": "55e13691",
   "metadata": {},
   "outputs": [],
   "source": []
  }
 ],
 "metadata": {
  "kernelspec": {
   "display_name": "base",
   "language": "python",
   "name": "python3"
  },
  "language_info": {
   "codemirror_mode": {
    "name": "ipython",
    "version": 3
   },
   "file_extension": ".py",
   "mimetype": "text/x-python",
   "name": "python",
   "nbconvert_exporter": "python",
   "pygments_lexer": "ipython3",
   "version": "3.13.5"
  }
 },
 "nbformat": 4,
 "nbformat_minor": 5
}
